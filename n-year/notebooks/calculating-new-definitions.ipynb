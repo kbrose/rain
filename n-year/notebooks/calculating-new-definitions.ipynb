{
 "cells": [
  {
   "cell_type": "code",
   "execution_count": 1,
   "metadata": {
    "collapsed": false
   },
   "outputs": [],
   "source": [
    "from __future__ import absolute_import, division, print_function, unicode_literals\n",
    "\n",
    "import numpy as np\n",
    "import pandas as pd\n",
    "import matplotlib.pyplot as plt\n",
    "import seaborn.apionly as sns\n",
    "%matplotlib inline\n",
    "# These settings are for a dark theme, comment it out if you\n",
    "# are using the default theme.\n",
    "sns.set(rc={'text.color':'#cdd2e9',\n",
    "            'figure.facecolor': '#384151',\n",
    "            'axes.facecolor':'#262931',\n",
    "            'axes.labelcolor':'#cdd2e9',\n",
    "            'grid.color':'#3b3e45',\n",
    "            'xtick.color':'#cdd2e9',\n",
    "            'ytick.color':'#cdd2e9',\n",
    "            'xtick.labelsize':13,\n",
    "            'ytick.labelsize':13,\n",
    "            'axes.titlesize':16,\n",
    "            'legend.fontsize':14,\n",
    "            'figure.figsize':(11.5,8)})\n",
    "sns.set_palette(sns.color_palette(\"Set2\", 8))"
   ]
  },
  {
   "cell_type": "markdown",
   "metadata": {},
   "source": [
    "# Loading in dataset, verifying integrity"
   ]
  },
  {
   "cell_type": "code",
   "execution_count": 2,
   "metadata": {
    "collapsed": true
   },
   "outputs": [],
   "source": [
    "# The following code is adopted from Pat's Rolling Rain N-Year Threshold.pynb\n",
    "# Loading in hourly rain data from CSV, parsing the timestamp, and adding it\n",
    "# as an index so it's more useful\n",
    "\n",
    "rain_df = pd.read_csv('data/ohare_full_precip_hourly.csv')\n",
    "rain_df['datetime'] = pd.to_datetime(rain_df['datetime'])\n",
    "rain_df = rain_df.set_index(pd.DatetimeIndex(rain_df['datetime']))\n",
    "# Data does not really exist before 1973, data between 11/1991 and 8/1992 is all 0s...\n",
    "rain_df = rain_df[(rain_df['datetime'] > '1973') &\n",
    "                  ((rain_df['datetime'] < '19911101') | (rain_df['datetime'] > '19920801'))]"
   ]
  },
  {
   "cell_type": "code",
   "execution_count": 3,
   "metadata": {
    "collapsed": false
   },
   "outputs": [
    {
     "data": {
      "image/png": "[encoded data removed]",
      "text/plain": [
       "<matplotlib.figure.Figure at 0x1ed148c7518>"
      ]
     },
     "metadata": {},
     "output_type": "display_data"
    }
   ],
   "source": [
    "chi_rain_series = rain_df['HOURLYPrecip'].resample('1H').max().dropna()\n",
    "# We take maximum, because when there are multiple reports within the same hour,\n",
    "# the values are *accumulated* (and then reset at the next full hour). Thus we\n",
    "# want to take the maximum reading from any given hour.\n",
    "ax = chi_rain_series.resample('24H').sum().plot()\n",
    "_ = ax.set_title('Daily Precipitation (in) at O\\'Hare')"
   ]
  },
  {
   "cell_type": "code",
   "execution_count": 4,
   "metadata": {
    "collapsed": false
   },
   "outputs": [
    {
     "data": {
      "text/html": [
       "<div>\n",
       "<table border=\"1\" class=\"dataframe\">\n",
       "  <thead>\n",
       "    <tr style=\"text-align: right;\">\n",
       "      <th></th>\n",
       "      <th>1-year</th>\n",
       "      <th>2-year</th>\n",
       "      <th>5-year</th>\n",
       "      <th>10-year</th>\n",
       "      <th>25-year</th>\n",
       "      <th>50-year</th>\n",
       "      <th>100-year</th>\n",
       "    </tr>\n",
       "    <tr>\n",
       "      <th>Duration</th>\n",
       "      <th></th>\n",
       "      <th></th>\n",
       "      <th></th>\n",
       "      <th></th>\n",
       "      <th></th>\n",
       "      <th></th>\n",
       "      <th></th>\n",
       "    </tr>\n",
       "  </thead>\n",
       "  <tbody>\n",
       "    <tr>\n",
       "      <th>10-day</th>\n",
       "      <td>4.12</td>\n",
       "      <td>4.95</td>\n",
       "      <td>6.04</td>\n",
       "      <td>6.89</td>\n",
       "      <td>8.18</td>\n",
       "      <td>9.38</td>\n",
       "      <td>11.14</td>\n",
       "    </tr>\n",
       "    <tr>\n",
       "      <th>5-day</th>\n",
       "      <td>3.25</td>\n",
       "      <td>3.93</td>\n",
       "      <td>4.91</td>\n",
       "      <td>5.70</td>\n",
       "      <td>6.93</td>\n",
       "      <td>8.04</td>\n",
       "      <td>9.96</td>\n",
       "    </tr>\n",
       "    <tr>\n",
       "      <th>72-hr</th>\n",
       "      <td>2.93</td>\n",
       "      <td>3.55</td>\n",
       "      <td>4.44</td>\n",
       "      <td>5.18</td>\n",
       "      <td>6.32</td>\n",
       "      <td>7.41</td>\n",
       "      <td>8.78</td>\n",
       "    </tr>\n",
       "    <tr>\n",
       "      <th>48-hr</th>\n",
       "      <td>2.70</td>\n",
       "      <td>3.30</td>\n",
       "      <td>4.09</td>\n",
       "      <td>4.81</td>\n",
       "      <td>5.88</td>\n",
       "      <td>6.84</td>\n",
       "      <td>8.16</td>\n",
       "    </tr>\n",
       "    <tr>\n",
       "      <th>24-hr</th>\n",
       "      <td>2.51</td>\n",
       "      <td>3.04</td>\n",
       "      <td>3.80</td>\n",
       "      <td>4.47</td>\n",
       "      <td>5.51</td>\n",
       "      <td>6.46</td>\n",
       "      <td>7.58</td>\n",
       "    </tr>\n",
       "    <tr>\n",
       "      <th>18-hr</th>\n",
       "      <td>2.30</td>\n",
       "      <td>2.79</td>\n",
       "      <td>3.50</td>\n",
       "      <td>4.11</td>\n",
       "      <td>5.06</td>\n",
       "      <td>5.95</td>\n",
       "      <td>6.97</td>\n",
       "    </tr>\n",
       "    <tr>\n",
       "      <th>12-hr</th>\n",
       "      <td>2.18</td>\n",
       "      <td>2.64</td>\n",
       "      <td>3.31</td>\n",
       "      <td>3.89</td>\n",
       "      <td>4.79</td>\n",
       "      <td>5.62</td>\n",
       "      <td>6.59</td>\n",
       "    </tr>\n",
       "    <tr>\n",
       "      <th>6-hr</th>\n",
       "      <td>1.88</td>\n",
       "      <td>2.28</td>\n",
       "      <td>2.85</td>\n",
       "      <td>3.35</td>\n",
       "      <td>4.13</td>\n",
       "      <td>4.85</td>\n",
       "      <td>5.68</td>\n",
       "    </tr>\n",
       "    <tr>\n",
       "      <th>3-hr</th>\n",
       "      <td>1.60</td>\n",
       "      <td>1.94</td>\n",
       "      <td>2.43</td>\n",
       "      <td>2.86</td>\n",
       "      <td>3.53</td>\n",
       "      <td>4.14</td>\n",
       "      <td>4.85</td>\n",
       "    </tr>\n",
       "    <tr>\n",
       "      <th>2-hr</th>\n",
       "      <td>1.48</td>\n",
       "      <td>1.79</td>\n",
       "      <td>2.24</td>\n",
       "      <td>2.64</td>\n",
       "      <td>3.25</td>\n",
       "      <td>3.82</td>\n",
       "      <td>4.47</td>\n",
       "    </tr>\n",
       "    <tr>\n",
       "      <th>1-hr</th>\n",
       "      <td>1.18</td>\n",
       "      <td>1.43</td>\n",
       "      <td>1.79</td>\n",
       "      <td>2.10</td>\n",
       "      <td>2.59</td>\n",
       "      <td>3.04</td>\n",
       "      <td>3.56</td>\n",
       "    </tr>\n",
       "    <tr>\n",
       "      <th>30-min</th>\n",
       "      <td>0.93</td>\n",
       "      <td>1.12</td>\n",
       "      <td>1.41</td>\n",
       "      <td>1.65</td>\n",
       "      <td>2.04</td>\n",
       "      <td>2.39</td>\n",
       "      <td>2.80</td>\n",
       "    </tr>\n",
       "    <tr>\n",
       "      <th>15-min</th>\n",
       "      <td>0.68</td>\n",
       "      <td>0.82</td>\n",
       "      <td>1.03</td>\n",
       "      <td>1.21</td>\n",
       "      <td>1.49</td>\n",
       "      <td>1.75</td>\n",
       "      <td>2.05</td>\n",
       "    </tr>\n",
       "    <tr>\n",
       "      <th>10-min</th>\n",
       "      <td>0.55</td>\n",
       "      <td>0.67</td>\n",
       "      <td>0.84</td>\n",
       "      <td>0.98</td>\n",
       "      <td>1.21</td>\n",
       "      <td>1.42</td>\n",
       "      <td>1.67</td>\n",
       "    </tr>\n",
       "    <tr>\n",
       "      <th>5-min</th>\n",
       "      <td>0.30</td>\n",
       "      <td>0.36</td>\n",
       "      <td>0.46</td>\n",
       "      <td>0.54</td>\n",
       "      <td>0.66</td>\n",
       "      <td>0.78</td>\n",
       "      <td>0.91</td>\n",
       "    </tr>\n",
       "  </tbody>\n",
       "</table>\n",
       "</div>"
      ],
      "text/plain": [
       "          1-year  2-year  5-year  10-year  25-year  50-year  100-year\n",
       "Duration                                                             \n",
       "10-day      4.12    4.95    6.04     6.89     8.18     9.38     11.14\n",
       "5-day       3.25    3.93    4.91     5.70     6.93     8.04      9.96\n",
       "72-hr       2.93    3.55    4.44     5.18     6.32     7.41      8.78\n",
       "48-hr       2.70    3.30    4.09     4.81     5.88     6.84      8.16\n",
       "24-hr       2.51    3.04    3.80     4.47     5.51     6.46      7.58\n",
       "18-hr       2.30    2.79    3.50     4.11     5.06     5.95      6.97\n",
       "12-hr       2.18    2.64    3.31     3.89     4.79     5.62      6.59\n",
       "6-hr        1.88    2.28    2.85     3.35     4.13     4.85      5.68\n",
       "3-hr        1.60    1.94    2.43     2.86     3.53     4.14      4.85\n",
       "2-hr        1.48    1.79    2.24     2.64     3.25     3.82      4.47\n",
       "1-hr        1.18    1.43    1.79     2.10     2.59     3.04      3.56\n",
       "30-min      0.93    1.12    1.41     1.65     2.04     2.39      2.80\n",
       "15-min      0.68    0.82    1.03     1.21     1.49     1.75      2.05\n",
       "10-min      0.55    0.67    0.84     0.98     1.21     1.42      1.67\n",
       "5-min       0.30    0.36    0.46     0.54     0.66     0.78      0.91"
      ]
     },
     "execution_count": 4,
     "metadata": {},
     "output_type": "execute_result"
    }
   ],
   "source": [
    "n_year_threshes = pd.read_csv('data/n_year_definitions.csv')\n",
    "n_year_threshes = n_year_threshes.set_index('Duration')\n",
    "n_year_threshes"
   ]
  },
  {
   "cell_type": "markdown",
   "metadata": {},
   "source": [
    "# Rainfall Equivalent\n",
    "\n",
    "Verify that the precipitation amount is the \"rainfall\" equivalent, i.e. that snowfall has been melted into liquid water. We will verify this by plotting the total amount of precipitation reported each day from the [\"Snowpocalypse\" in 2011, where 21.2 inches of snow fell at O'Hare from 1/31/2011 to 2/2/2011](https://en.wikipedia.org/wiki/January_31_%E2%80%93_February_2,_2011_North_American_blizzard#Illinois). We see that each of these days has < 1 inch of precipitation reported, and the total number of inches reported is < 2."
   ]
  },
  {
   "cell_type": "code",
   "execution_count": 5,
   "metadata": {
    "collapsed": false
   },
   "outputs": [
    {
     "name": "stdout",
     "output_type": "stream",
     "text": [
      "Total of 1.62 inches of precip reported.\n"
     ]
    },
    {
     "data": {
      "image/png": "[encoded data removed]",
      "text/plain": [
       "<matplotlib.figure.Figure at 0x1ed1904ce48>"
      ]
     },
     "metadata": {},
     "output_type": "display_data"
    }
   ],
   "source": [
    "chi_rain_series['20110130':'20110204'].resample('24H').sum().plot(figsize=(6,4))\n",
    "print('Total of {:.2f} inches of precip reported.'.format(\n",
    "        chi_rain_series['20110130':'20110204'].sum()\n",
    "    ))"
   ]
  },
  {
   "cell_type": "markdown",
   "metadata": {},
   "source": [
    "# Plotting Rainfall vs. n-year storm threshold"
   ]
  },
  {
   "cell_type": "code",
   "execution_count": 6,
   "metadata": {
    "collapsed": false
   },
   "outputs": [],
   "source": [
    "dur_str_to_hours = {\n",
    "    '5-min':5/60.0,\n",
    "    '10-min':10/60.0,\n",
    "    '15-min':15/60.0,\n",
    "    '30-min':0.5,\n",
    "    '1-hr':1.0,\n",
    "    '2-hr':2.0,\n",
    "    '3-hr':3.0,\n",
    "    '6-hr':6.0,\n",
    "    '12-hr':12.0,\n",
    "    '18-hr':18.0,\n",
    "    '24-hr':24.0,\n",
    "    '48-hr':48.0,\n",
    "    '72-hr':72.0,\n",
    "    '5-day':5*24.0,\n",
    "    '10-day':10*24.0\n",
    "}\n",
    "\n",
    "def plot_thresh(duration_str, n_years, ax=None):\n",
    "    '''\n",
    "    For a given duration and a given n, the number of years, plot the\n",
    "    rolling amount of rain of the given duration, and the amount\n",
    "    of rain in the given duration that constitutes an n-year storm.\n",
    "    \n",
    "    duration_str: duration as a string, see index of n_year_threshes\n",
    "    n_years     : number of years, must be column of n_year_threshes\n",
    "    ax          : optional, matplotlib axis object on which to plot\n",
    "    \n",
    "    >>> plot_thresh('48-hour', 100)\n",
    "    >>> plot_thresh('5-day', 10)\n",
    "    '''\n",
    "    global rain_df\n",
    "    global n_year_threshes\n",
    "    global dur_str_to_hours\n",
    "    \n",
    "    if ax is None:\n",
    "        ax = plt.gca()\n",
    "    \n",
    "    thresh = n_year_threshes.loc[duration_str, str(n_years) + '-year']\n",
    "    \n",
    "    duration = dur_str_to_hours[duration_str]\n",
    "    duration = max(duration, 1) # cannot upsample to more frequent than hourly\n",
    "    # TODO: want to throw warning?\n",
    "    \n",
    "    # Create plot\n",
    "    rain_line = chi_rain_series.rolling(window=int(duration), min_periods=0).sum().plot(\n",
    "        ax=ax, color=sns.color_palette()[0])\n",
    "    \n",
    "    x_limits = ax.get_xlim()\n",
    "    \n",
    "    ax.plot(x_limits, [thresh, thresh], color=sns.color_palette()[1])\n",
    "    \n",
    "    ax.set_ylim([0, ax.get_ylim()[1]])\n",
    "    \n",
    "    ax.legend(['moving cumulative rain', \n",
    "               str(n_years) + '-year ' + duration_str + ' threshold'],\n",
    "              loc='best')\n",
    "    \n",
    "    return ax"
   ]
  },
  {
   "cell_type": "code",
   "execution_count": 7,
   "metadata": {
    "collapsed": false
   },
   "outputs": [
    {
     "data": {
      "image/png": "[encoded data removed]",
      "text/plain": [
       "<matplotlib.figure.Figure at 0x1ed19209208>"
      ]
     },
     "metadata": {},
     "output_type": "display_data"
    }
   ],
   "source": [
    "ax = plot_thresh('24-hr', 100)"
   ]
  },
  {
   "cell_type": "markdown",
   "metadata": {},
   "source": [
    "# Calculate new n-year storm definitions\n",
    "\n",
    "Essentially replicating [bulletin 70](http://www.isws.illinois.edu/atmos/statecli/RF/download.htm).\n",
    "\n",
    "One of the pre-processing steps requires finding all of the \"separate storm systems\" for the durations that are less than or equal to 24 hours. Quoting from Bulletin 70, Section 3: Independence of Observations:\n",
    "\n",
    ">     As in any statistical analysis, the individual ob-\n",
    "    servations or data points should be independent of\n",
    "    each  other.  With  a  partial-duration  series,  one  must\n",
    "    be careful that the observations used are not meteor-\n",
    "    ologically  dependent;  that  is,  they  must  be  from  sepa-\n",
    "    rate storm systems. In the present study, data for\n",
    "    precipitation  durations  of  24  hours  or  less  were  ob-\n",
    "    tained  from  individual  precipitation  events,  defined\n",
    "    as  precipitation  periods  in  which  there  was  no  pre-\n",
    "    cipitation  for  at  least  6  hours  before  and  6  hours\n",
    "    after  the  precipitation  event (Huff, 1967);  then,  only\n",
    "    the maximum value for the particular duration (6\n",
    "    hours,  12  hours,  etc.)  within  such  a  precipitation\n",
    "    event  was  used.  This  ensures  that  the  precipitation\n",
    "    values are independent of each other and are derived\n",
    "    from  individual  storms.  For  precipitation  durations\n",
    "    of 2 to 10 days, no time separation criteria were\n",
    "    needed."
   ]
  },
  {
   "cell_type": "code",
   "execution_count": 8,
   "metadata": {
    "collapsed": false,
    "scrolled": false
   },
   "outputs": [],
   "source": [
    "def get_independent_storms():\n",
    "    '''\n",
    "    TODO\n",
    "    \n",
    "    See page 21 of http://www.isws.illinois.edu/atmos/statecli/PDF/b70-all.pdf,\n",
    "    Section 3: Independence of Observations, also quoted above.\n",
    "    '''\n",
    "    pass"
   ]
  },
  {
   "cell_type": "code",
   "execution_count": 9,
   "metadata": {
    "collapsed": false
   },
   "outputs": [
    {
     "data": {
      "image/png": "[encoded data removed]",
      "text/plain": [
       "<matplotlib.figure.Figure at 0x1ed191e5dd8>"
      ]
     },
     "metadata": {},
     "output_type": "display_data"
    }
   ],
   "source": [
    "ps = np.linspace(0,1,1000)\n",
    "f, (ax1, ax2) = plt.subplots(1, 2, sharex=True, figsize=(11,4))\n",
    "\n",
    "ax1.set_title('Quantiles')\n",
    "ax1.plot(chi_rain_series.rolling(window=int(24), min_periods=0).sum().quantile(ps))\n",
    "ax1.hold(True)\n",
    "ax1.plot(chi_rain_series.resample('24H').sum().dropna().quantile(ps), '--')\n",
    "\n",
    "ax2.set_title('Difference')\n",
    "junk = ax2.plot(ps, \n",
    "    chi_rain_series.rolling(window=int(24), min_periods=0).sum().quantile(ps) - \n",
    "         chi_rain_series.resample('24H').sum().dropna().quantile(ps)\n",
    ")\n",
    "# We hope that these will match well. One is generated using (somewhat) independent\n",
    "# observations, and the other is generated using highly dependent observations."
   ]
  },
  {
   "cell_type": "code",
   "execution_count": 10,
   "metadata": {
    "collapsed": false
   },
   "outputs": [],
   "source": [
    "def new_recurrence_intervals():\n",
    "    '''\n",
    "    TODO\n",
    "    '''\n",
    "    global rain_df\n",
    "    global n_year_threshes\n",
    "    global dur_str_to_hours\n",
    "    \n",
    "    new_recur_ints = n_year_threshes.ix[:-4,:].copy(deep=True)\n",
    "    \n",
    "    for recurrence in new_recur_ints.columns:\n",
    "        for dur_str in new_recur_ints.index:\n",
    "            thresh = n_year_threshes.ix[dur_str, recurrence]\n",
    "            dur = dur_str_to_hours[dur_str]\n",
    "            rain = chi_rain_series.rolling(window=int(dur), min_periods=0).sum()\n",
    "            # 24 * 365.25 = 8766 hours per year\n",
    "            # rain.size * dur is the number of total hours we are looking at, so\n",
    "            # rain.size * dur / 8766 is total number of years in dataset\n",
    "            new_recur_ints.ix[dur_str, recurrence] = rain.size * dur / 8766. / sum(rain > thresh)\n",
    "    \n",
    "    return new_recur_ints"
   ]
  },
  {
   "cell_type": "code",
   "execution_count": 12,
   "metadata": {
    "collapsed": false
   },
   "outputs": [],
   "source": [
    "new_recur_ints = new_recurrence_intervals()"
   ]
  },
  {
   "cell_type": "code",
   "execution_count": 16,
   "metadata": {
    "collapsed": false
   },
   "outputs": [
    {
     "name": "stdout",
     "output_type": "stream",
     "text": [
      "            1-year    2-year    5-year   10-year   25-year    50-year   100-year\n",
      "Duration                                                                        \n",
      "10-day    1.367616  2.363959  3.639560  6.122948  7.972638  11.844276  26.527516\n",
      "5-day     1.181166  2.177883  3.952641  4.574523  7.279120   9.619324  26.256827\n",
      "72-hr     1.088788  1.984449  3.557377  4.839816  5.603998   8.529842  13.425230\n",
      "48-hr     1.008591  1.940184  3.330963  4.960326  5.518861   8.168791  12.475971\n",
      "24-hr     1.150020  2.042198  3.586298  4.901274  5.624413   7.299770  19.793608\n",
      "18-hr     1.054577  1.778688  3.051189  4.084395  5.676108   5.984114  13.309495\n",
      "12-hr     1.146178  1.709747  2.875049  4.361303  5.848112   6.200407  16.082307\n",
      "6-hr      1.025167  1.726959  2.859077  4.084395  6.276022   8.577230   8.872997\n",
      "3-hr      1.063293  1.608231  3.063297  4.765128  7.568144   8.041153   9.189890\n",
      "2-hr      1.128583  1.715446  3.298935  5.360769  7.147692   8.577230   9.530256\n",
      "1-hr      0.875228  1.786923  3.898741  6.126593  8.577230   8.577230  10.721538\n"
     ]
    }
   ],
   "source": [
    "print(new_recur_ints.to_string())"
   ]
  },
  {
   "cell_type": "code",
   "execution_count": null,
   "metadata": {
    "collapsed": true
   },
   "outputs": [],
   "source": []
  }
 ],
 "metadata": {
  "anaconda-cloud": {},
  "celltoolbar": "Raw Cell Format",
  "kernelspec": {
   "display_name": "Python 3",
   "language": "python",
   "name": "python3"
  },
  "language_info": {
   "codemirror_mode": {
    "name": "ipython",
    "version": 3
   },
   "file_extension": ".py",
   "mimetype": "text/x-python",
   "name": "python",
   "nbconvert_exporter": "python",
   "pygments_lexer": "ipython3",
   "version": "3.5.1"
  }
 },
 "nbformat": 4,
 "nbformat_minor": 0
}
