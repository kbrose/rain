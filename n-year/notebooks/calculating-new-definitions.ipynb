{
 "cells": [
  {
   "cell_type": "code",
   "execution_count": 1,
   "metadata": {
    "collapsed": false
   },
   "outputs": [],
   "source": [
    "from __future__ import absolute_import, division, print_function, unicode_literals\n",
    "\n",
    "import numpy as np\n",
    "import pandas as pd\n",
    "import matplotlib.pyplot as plt\n",
    "import seaborn.apionly as sns\n",
    "%matplotlib inline\n",
    "# These settings are for a dark theme, comment it out if you\n",
    "# are using the default theme.\n",
    "sns.set(rc={'text.color':'#cdd2e9',\n",
    "            'figure.facecolor': '#384151',\n",
    "            'axes.facecolor':'#262931',\n",
    "            'axes.labelcolor':'#cdd2e9',\n",
    "            'grid.color':'#3b3e45',\n",
    "            'xtick.color':'#cdd2e9',\n",
    "            'ytick.color':'#cdd2e9',\n",
    "            'xtick.labelsize':13,\n",
    "            'ytick.labelsize':13,\n",
    "            'axes.titlesize':15,\n",
    "            'legend.fontsize':14,\n",
    "            'figure.figsize':(10,8)})\n",
    "sns.set_palette(sns.color_palette(\"Set2\", 8))"
   ]
  },
  {
   "cell_type": "code",
   "execution_count": 2,
   "metadata": {
    "collapsed": true
   },
   "outputs": [],
   "source": [
    "# The following code is adopted from Pat's Rolling Rain N-Year Threshold.pynb\n",
    "# Loading in hourly rain data from CSV, parsing the timestamp, and adding it\n",
    "# as an index so it's more useful\n",
    "\n",
    "rain_df = pd.read_csv('data/ohare_full_precip_hourly.csv')\n",
    "rain_df['datetime'] = pd.to_datetime(rain_df['datetime'])\n",
    "rain_df = rain_df.set_index(pd.DatetimeIndex(rain_df['datetime']))\n",
    "# Data does not really exist before 1973, data between 11/1991 and 8/1992 is all 0s...\n",
    "rain_df = rain_df[(rain_df['datetime'] > '1973') &\n",
    "                  ((rain_df['datetime'] < '19911101') | (rain_df['datetime'] > '19920801'))]"
   ]
  },
  {
   "cell_type": "code",
   "execution_count": 3,
   "metadata": {
    "collapsed": false
   },
   "outputs": [
    {
     "data": {
      "text/plain": [
       "<matplotlib.axes._subplots.AxesSubplot at 0x18b24b67780>"
      ]
     },
     "execution_count": 3,
     "metadata": {},
     "output_type": "execute_result"
    },
    {
     "data": {
      "image/png": "[encoded data removed]",
      "text/plain": [
       "<matplotlib.figure.Figure at 0x18b204ef860>"
      ]
     },
     "metadata": {},
     "output_type": "display_data"
    }
   ],
   "source": [
    "chi_rain_series = rain_df['HOURLYPrecip'].resample('1H').max().dropna()\n",
    "chi_rain_series.plot()"
   ]
  },
  {
   "cell_type": "code",
   "execution_count": 4,
   "metadata": {
    "collapsed": false
   },
   "outputs": [
    {
     "data": {
      "text/html": [
       "<div>\n",
       "<table border=\"1\" class=\"dataframe\">\n",
       "  <thead>\n",
       "    <tr style=\"text-align: right;\">\n",
       "      <th></th>\n",
       "      <th>1-year</th>\n",
       "      <th>2-year</th>\n",
       "      <th>5-year</th>\n",
       "      <th>10-year</th>\n",
       "      <th>25-year</th>\n",
       "      <th>50-year</th>\n",
       "      <th>100-year</th>\n",
       "    </tr>\n",
       "    <tr>\n",
       "      <th>Duration</th>\n",
       "      <th></th>\n",
       "      <th></th>\n",
       "      <th></th>\n",
       "      <th></th>\n",
       "      <th></th>\n",
       "      <th></th>\n",
       "      <th></th>\n",
       "    </tr>\n",
       "  </thead>\n",
       "  <tbody>\n",
       "    <tr>\n",
       "      <th>10-day</th>\n",
       "      <td>4.12</td>\n",
       "      <td>4.95</td>\n",
       "      <td>6.04</td>\n",
       "      <td>6.89</td>\n",
       "      <td>8.18</td>\n",
       "      <td>9.38</td>\n",
       "      <td>11.14</td>\n",
       "    </tr>\n",
       "    <tr>\n",
       "      <th>5-day</th>\n",
       "      <td>3.25</td>\n",
       "      <td>3.93</td>\n",
       "      <td>4.91</td>\n",
       "      <td>5.70</td>\n",
       "      <td>6.93</td>\n",
       "      <td>8.04</td>\n",
       "      <td>9.96</td>\n",
       "    </tr>\n",
       "    <tr>\n",
       "      <th>72-hr</th>\n",
       "      <td>2.93</td>\n",
       "      <td>3.55</td>\n",
       "      <td>4.44</td>\n",
       "      <td>5.18</td>\n",
       "      <td>6.32</td>\n",
       "      <td>7.41</td>\n",
       "      <td>8.78</td>\n",
       "    </tr>\n",
       "    <tr>\n",
       "      <th>48-hr</th>\n",
       "      <td>2.70</td>\n",
       "      <td>3.30</td>\n",
       "      <td>4.09</td>\n",
       "      <td>4.81</td>\n",
       "      <td>5.88</td>\n",
       "      <td>6.84</td>\n",
       "      <td>8.16</td>\n",
       "    </tr>\n",
       "    <tr>\n",
       "      <th>24-hr</th>\n",
       "      <td>2.51</td>\n",
       "      <td>3.04</td>\n",
       "      <td>3.80</td>\n",
       "      <td>4.47</td>\n",
       "      <td>5.51</td>\n",
       "      <td>6.46</td>\n",
       "      <td>7.58</td>\n",
       "    </tr>\n",
       "    <tr>\n",
       "      <th>18-hr</th>\n",
       "      <td>2.30</td>\n",
       "      <td>2.79</td>\n",
       "      <td>3.50</td>\n",
       "      <td>4.11</td>\n",
       "      <td>5.06</td>\n",
       "      <td>5.95</td>\n",
       "      <td>6.97</td>\n",
       "    </tr>\n",
       "    <tr>\n",
       "      <th>12-hr</th>\n",
       "      <td>2.18</td>\n",
       "      <td>2.64</td>\n",
       "      <td>3.31</td>\n",
       "      <td>3.89</td>\n",
       "      <td>4.79</td>\n",
       "      <td>5.62</td>\n",
       "      <td>6.59</td>\n",
       "    </tr>\n",
       "    <tr>\n",
       "      <th>6-hr</th>\n",
       "      <td>1.88</td>\n",
       "      <td>2.28</td>\n",
       "      <td>2.85</td>\n",
       "      <td>3.35</td>\n",
       "      <td>4.13</td>\n",
       "      <td>4.85</td>\n",
       "      <td>5.68</td>\n",
       "    </tr>\n",
       "    <tr>\n",
       "      <th>3-hr</th>\n",
       "      <td>1.60</td>\n",
       "      <td>1.94</td>\n",
       "      <td>2.43</td>\n",
       "      <td>2.86</td>\n",
       "      <td>3.53</td>\n",
       "      <td>4.14</td>\n",
       "      <td>4.85</td>\n",
       "    </tr>\n",
       "    <tr>\n",
       "      <th>2-hr</th>\n",
       "      <td>1.48</td>\n",
       "      <td>1.79</td>\n",
       "      <td>2.24</td>\n",
       "      <td>2.64</td>\n",
       "      <td>3.25</td>\n",
       "      <td>3.82</td>\n",
       "      <td>4.47</td>\n",
       "    </tr>\n",
       "    <tr>\n",
       "      <th>1-hr</th>\n",
       "      <td>1.18</td>\n",
       "      <td>1.43</td>\n",
       "      <td>1.79</td>\n",
       "      <td>2.10</td>\n",
       "      <td>2.59</td>\n",
       "      <td>3.04</td>\n",
       "      <td>3.56</td>\n",
       "    </tr>\n",
       "    <tr>\n",
       "      <th>30-min</th>\n",
       "      <td>0.93</td>\n",
       "      <td>1.12</td>\n",
       "      <td>1.41</td>\n",
       "      <td>1.65</td>\n",
       "      <td>2.04</td>\n",
       "      <td>2.39</td>\n",
       "      <td>2.80</td>\n",
       "    </tr>\n",
       "    <tr>\n",
       "      <th>15-min</th>\n",
       "      <td>0.68</td>\n",
       "      <td>0.82</td>\n",
       "      <td>1.03</td>\n",
       "      <td>1.21</td>\n",
       "      <td>1.49</td>\n",
       "      <td>1.75</td>\n",
       "      <td>2.05</td>\n",
       "    </tr>\n",
       "    <tr>\n",
       "      <th>10-min</th>\n",
       "      <td>0.55</td>\n",
       "      <td>0.67</td>\n",
       "      <td>0.84</td>\n",
       "      <td>0.98</td>\n",
       "      <td>1.21</td>\n",
       "      <td>1.42</td>\n",
       "      <td>1.67</td>\n",
       "    </tr>\n",
       "    <tr>\n",
       "      <th>5-min</th>\n",
       "      <td>0.30</td>\n",
       "      <td>0.36</td>\n",
       "      <td>0.46</td>\n",
       "      <td>0.54</td>\n",
       "      <td>0.66</td>\n",
       "      <td>0.78</td>\n",
       "      <td>0.91</td>\n",
       "    </tr>\n",
       "  </tbody>\n",
       "</table>\n",
       "</div>"
      ],
      "text/plain": [
       "          1-year  2-year  5-year  10-year  25-year  50-year  100-year\n",
       "Duration                                                             \n",
       "10-day      4.12    4.95    6.04     6.89     8.18     9.38     11.14\n",
       "5-day       3.25    3.93    4.91     5.70     6.93     8.04      9.96\n",
       "72-hr       2.93    3.55    4.44     5.18     6.32     7.41      8.78\n",
       "48-hr       2.70    3.30    4.09     4.81     5.88     6.84      8.16\n",
       "24-hr       2.51    3.04    3.80     4.47     5.51     6.46      7.58\n",
       "18-hr       2.30    2.79    3.50     4.11     5.06     5.95      6.97\n",
       "12-hr       2.18    2.64    3.31     3.89     4.79     5.62      6.59\n",
       "6-hr        1.88    2.28    2.85     3.35     4.13     4.85      5.68\n",
       "3-hr        1.60    1.94    2.43     2.86     3.53     4.14      4.85\n",
       "2-hr        1.48    1.79    2.24     2.64     3.25     3.82      4.47\n",
       "1-hr        1.18    1.43    1.79     2.10     2.59     3.04      3.56\n",
       "30-min      0.93    1.12    1.41     1.65     2.04     2.39      2.80\n",
       "15-min      0.68    0.82    1.03     1.21     1.49     1.75      2.05\n",
       "10-min      0.55    0.67    0.84     0.98     1.21     1.42      1.67\n",
       "5-min       0.30    0.36    0.46     0.54     0.66     0.78      0.91"
      ]
     },
     "execution_count": 4,
     "metadata": {},
     "output_type": "execute_result"
    }
   ],
   "source": [
    "n_year_threshes = pd.read_csv('data/n_year_definitions.csv')\n",
    "n_year_threshes = n_year_threshes.set_index('Duration')\n",
    "n_year_threshes"
   ]
  },
  {
   "cell_type": "code",
   "execution_count": 5,
   "metadata": {
    "collapsed": false
   },
   "outputs": [
    {
     "data": {
      "text/plain": [
       "0.29999999999999999"
      ]
     },
     "execution_count": 5,
     "metadata": {},
     "output_type": "execute_result"
    }
   ],
   "source": [
    "n_year_threshes.loc['5-min', '1-year']"
   ]
  },
  {
   "cell_type": "code",
   "execution_count": 6,
   "metadata": {
    "collapsed": false
   },
   "outputs": [],
   "source": [
    "dur_str_to_hours = {\n",
    "    '5-min':5/60.0,\n",
    "    '10-min':10/60.0,\n",
    "    '15-min':15/60.0,\n",
    "    '30-min':0.5,\n",
    "    '1-hr':1.0,\n",
    "    '2-hr':2.0,\n",
    "    '3-hr':3.0,\n",
    "    '6-hr':6.0,\n",
    "    '12-hr':12.0,\n",
    "    '18-hr':18.0,\n",
    "    '24-hr':24.0,\n",
    "    '48-hr':48.0,\n",
    "    '72-hr':72.0,\n",
    "    '5-day':5*24.0,\n",
    "    '10-day':10*24.0\n",
    "}\n",
    "\n",
    "def plot_thresh(duration_str, n_years, ax=None):\n",
    "    '''\n",
    "    For a given duration and a given n, the number of years, plot the\n",
    "    rolling amount of rain of the given duration, and the amount\n",
    "    of rain in the given duration that constitutes an n-year storm.\n",
    "    \n",
    "    duration_str: duration as a string, see index of n_year_threshes\n",
    "    n_years     : number of years, must be column of n_year_threshes\n",
    "    ax          : optional, matplotlib axis object on which to plot\n",
    "    \n",
    "    >>> plot_thresh('48-hour', 100)\n",
    "    >>> plot_thresh('5-day', 10)\n",
    "    '''\n",
    "    global rain_df\n",
    "    global n_year_threshes\n",
    "    \n",
    "    if ax is None:\n",
    "        ax = plt.gca()\n",
    "    \n",
    "    thresh = n_year_threshes.loc[duration_str, str(n_years) + '-year']\n",
    "    \n",
    "    duration = dur_str_to_hours[duration_str]\n",
    "    duration = max(duration, 1) # cannot upsample to more frequent than hourly\n",
    "    # TODO: want to throw warning?\n",
    "    \n",
    "    # Create plot\n",
    "    rain_line = chi_rain_series.rolling(window=int(duration), min_periods=0).sum().plot(\n",
    "        ax=ax, color=sns.color_palette()[0])\n",
    "#     rain_line = chi_rain_series.resample(str(int(duration)) + 'H').sum().plot(\n",
    "#         ax=ax, color=sns.color_palette()[0])\n",
    "    \n",
    "    x_limits = ax.get_xlim()\n",
    "    \n",
    "    ax.plot(x_limits, [thresh, thresh], color=sns.color_palette()[1])\n",
    "    \n",
    "    ax.set_ylim([0, ax.get_ylim()[1]])\n",
    "    \n",
    "    ax.legend(['moving cumulative rain', \n",
    "               str(n_years) + '-year ' + duration_str + ' threshold'],\n",
    "              loc='best')\n",
    "    \n",
    "    return ax"
   ]
  },
  {
   "cell_type": "code",
   "execution_count": 7,
   "metadata": {
    "collapsed": false
   },
   "outputs": [
    {
     "data": {
      "image/png": "[encoded data removed]",
      "text/plain": [
       "<matplotlib.figure.Figure at 0x18b204ef400>"
      ]
     },
     "metadata": {},
     "output_type": "display_data"
    }
   ],
   "source": [
    "ax = plot_thresh('48-hr', 50)"
   ]
  },
  {
   "cell_type": "code",
   "execution_count": 8,
   "metadata": {
    "collapsed": false,
    "scrolled": false
   },
   "outputs": [],
   "source": [
    "def get_independent_storms():\n",
    "    '''\n",
    "    TODO\n",
    "    \n",
    "    See page 21 of http://www.isws.illinois.edu/atmos/statecli/PDF/b70-all.pdf,\n",
    "    Section 3: Independence of Observations\n",
    "    \n",
    "    To help guard against link-rot, I'm just going to copy the\n",
    "    whole pargraph in...\n",
    "    \n",
    "    As in any statistical analysis, the individual ob-\n",
    "    servations or data points should be independent of\n",
    "    each  other.  With  a  partial-duration  series,  one  must\n",
    "    be careful that the observations used are not meteor-\n",
    "    ologically  dependent;  that  is,  they  must  be  from  sepa-\n",
    "    rate storm systems. In the present study, data for\n",
    "    precipitation  durations  of  24  hours  or  less  were  ob-\n",
    "    tained  from  individual  precipitation  events,  defined\n",
    "    as  precipitation  periods  in  which  there  was  no  pre-\n",
    "    cipitation  for  at  least  6  hours  before  and  6  hours\n",
    "    after  the  precipitation  event (Huff, 1967);  then,  only\n",
    "    the maximum value for the particular duration (6\n",
    "    hours,  12  hours,  etc.)  within  such  a  precipitation\n",
    "    event  was  used.  This  ensures  that  the  precipitation\n",
    "    values are independent of each other and are derived\n",
    "    from  individual  storms.  For  precipitation  durations\n",
    "    of 2 to 10 days, no time separation criteria were\n",
    "    needed.\n",
    "    '''\n",
    "    pass"
   ]
  },
  {
   "cell_type": "code",
   "execution_count": 9,
   "metadata": {
    "collapsed": false
   },
   "outputs": [
    {
     "data": {
      "text/plain": [
       "[<matplotlib.lines.Line2D at 0x18b29ac5a20>]"
      ]
     },
     "execution_count": 9,
     "metadata": {},
     "output_type": "execute_result"
    },
    {
     "data": {
      "image/png": "[encoded data removed]",
      "text/plain": [
       "<matplotlib.figure.Figure at 0x18b29ac5c50>"
      ]
     },
     "metadata": {},
     "output_type": "display_data"
    }
   ],
   "source": [
    "ps = np.linspace(0,1,1000)\n",
    "plt.plot(chi_rain_series.rolling(window=int(24), min_periods=0).sum().quantile(ps))\n",
    "plt.hold(True)\n",
    "plt.plot(chi_rain_series.resample('24H').sum().dropna().quantile(ps), '--')\n",
    "# We hope that these will match well. One is generated using (somewhat) independent\n",
    "# observations, and the other is generated using highly dependent observations."
   ]
  },
  {
   "cell_type": "code",
   "execution_count": null,
   "metadata": {
    "collapsed": true
   },
   "outputs": [],
   "source": []
  }
 ],
 "metadata": {
  "anaconda-cloud": {},
  "celltoolbar": "Raw Cell Format",
  "kernelspec": {
   "display_name": "Python [default]",
   "language": "python",
   "name": "python3"
  },
  "language_info": {
   "codemirror_mode": {
    "name": "ipython",
    "version": 3
   },
   "file_extension": ".py",
   "mimetype": "text/x-python",
   "name": "python",
   "nbconvert_exporter": "python",
   "pygments_lexer": "ipython3",
   "version": "3.5.2"
  }
 },
 "nbformat": 4,
 "nbformat_minor": 0
}
