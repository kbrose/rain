{
 "cells": [
  {
   "cell_type": "code",
   "execution_count": null,
   "metadata": {
    "collapsed": false
   },
   "outputs": [],
   "source": [
    "from __future__ import absolute_import, division, print_function, unicode_literals\n",
    "\n",
    "import numpy as np\n",
    "import pandas as pd\n",
    "\n",
    "from bokeh.io import push_notebook, show, output_notebook\n",
    "import bokeh.layouts as bl\n",
    "import bokeh.plotting as bp\n",
    "import bokeh.models as bm\n",
    "output_notebook()"
   ]
  },
  {
   "cell_type": "code",
   "execution_count": null,
   "metadata": {
    "collapsed": false
   },
   "outputs": [],
   "source": [
    "# The following code is adopted from Pat's Rolling Rain N-Year Threshold.pynb\n",
    "# Loading in hourly rain data from CSV, parsing the timestamp, and adding it as an index so it's more useful\n",
    "\n",
    "rain_df = pd.read_csv('data/ohare_full_precip_hourly.csv')\n",
    "rain_df['datetime'] = pd.to_datetime(rain_df['datetime'])\n",
    "rain_df = rain_df.set_index(pd.DatetimeIndex(rain_df['datetime']))\n",
    "rain_df = rain_df['19700101':]\n",
    "chi_rain_series = rain_df['HOURLYPrecip'].resample('1H').max()\n",
    "print(rain_df.shape)"
   ]
  },
  {
   "cell_type": "code",
   "execution_count": null,
   "metadata": {
    "collapsed": false
   },
   "outputs": [],
   "source": [
    "n_year_threshes = pd.read_csv('data/n_year_definitions.csv')\n",
    "n_year_threshes = n_year_threshes.set_index('Duration')\n",
    "n_year_threshes"
   ]
  },
  {
   "cell_type": "code",
   "execution_count": null,
   "metadata": {
    "collapsed": false
   },
   "outputs": [],
   "source": [
    "n_year_threshes.loc['5-min', '1-year']"
   ]
  },
  {
   "cell_type": "code",
   "execution_count": null,
   "metadata": {
    "collapsed": false
   },
   "outputs": [],
   "source": [
    "dur_str_to_hours = {\n",
    "    '5-min':5/60.0,\n",
    "    '10-min':10/60.0,\n",
    "    '15-min':15/60.0,\n",
    "    '30-min':0.5,\n",
    "    '1-hr':1.0,\n",
    "    '2-hr':2.0,\n",
    "    '3-hr':3.0,\n",
    "    '6-hr':6.0,\n",
    "    '12-hr':12.0,\n",
    "    '18-hr':18.0,\n",
    "    '24-hr':24.0,\n",
    "    '48-hr':48.0,\n",
    "    '72-hr':72.0,\n",
    "    '5-day':5*24.0,\n",
    "    '10-day':10*24.0\n",
    "}\n",
    "\n",
    "def plot_thresh(duration_str, n_years):\n",
    "    '''\n",
    "    TODO\n",
    "    '''\n",
    "    global rain_df\n",
    "    global n_year_threshes\n",
    "    \n",
    "    thresh = n_year_threshes.loc[duration_str, str(n_years) + '-year']\n",
    "    \n",
    "    duration = dur_str_to_hours[duration_str]\n",
    "    duration = max(duration, 1) # cannot upsample to more frequent than hourly\n",
    "    # TODO: want to throw warning?\n",
    "    \n",
    "    rain_line = chi_rain_series.rolling(window=int(duration), min_periods=0).sum()\n",
    "    \n",
    "    # Create plot\n",
    "    p = bp.figure(plot_width=800, plot_height=600,\n",
    "                  x_axis_type=\"datetime\",\n",
    "                  tools=\"xwheel_zoom,xpan,hover,save,reset\")\n",
    "    \n",
    "    p.line(rain_line.index, rain_line.values,\n",
    "           legend='moving cumulative rain')\n",
    "    \n",
    "    x_limits = [rain_line.index.min(), rain_line.index.max()]\n",
    "    p.line(x_limits, [thresh, thresh],\n",
    "           color=\"firebrick\", legend=str(n_years) + '-year ' + duration_str + ' threshold')\n",
    "    \n",
    "    p.legend.location = \"top_left\"\n",
    "    \n",
    "    hover = p.select(dict(type=bm.HoverTool))\n",
    "    hover.tooltips = [\n",
    "        (\"rain (in)\", \"$y\"),\n",
    "        ]\n",
    "    \n",
    "    p.toolbar.active_drag = None\n",
    "    \n",
    "    bp.show(p)\n",
    "    \n",
    "    return p"
   ]
  },
  {
   "cell_type": "code",
   "execution_count": null,
   "metadata": {
    "collapsed": false
   },
   "outputs": [],
   "source": [
    "plot_thresh('48-hr', 100)"
   ]
  },
  {
   "cell_type": "code",
   "execution_count": null,
   "metadata": {
    "collapsed": false,
    "scrolled": false
   },
   "outputs": [],
   "source": []
  },
  {
   "cell_type": "code",
   "execution_count": null,
   "metadata": {
    "collapsed": false
   },
   "outputs": [],
   "source": []
  },
  {
   "cell_type": "code",
   "execution_count": null,
   "metadata": {
    "collapsed": false,
    "scrolled": false
   },
   "outputs": [],
   "source": []
  },
  {
   "cell_type": "code",
   "execution_count": null,
   "metadata": {
    "collapsed": false
   },
   "outputs": [],
   "source": []
  },
  {
   "cell_type": "code",
   "execution_count": null,
   "metadata": {
    "collapsed": true
   },
   "outputs": [],
   "source": []
  }
 ],
 "metadata": {
  "anaconda-cloud": {},
  "celltoolbar": "Raw Cell Format",
  "kernelspec": {
   "display_name": "Python [conda root]",
   "language": "python",
   "name": "conda-root-py"
  },
  "language_info": {
   "codemirror_mode": {
    "name": "ipython",
    "version": 3
   },
   "file_extension": ".py",
   "mimetype": "text/x-python",
   "name": "python",
   "nbconvert_exporter": "python",
   "pygments_lexer": "ipython3",
   "version": "3.5.2"
  }
 },
 "nbformat": 4,
 "nbformat_minor": 0
}
